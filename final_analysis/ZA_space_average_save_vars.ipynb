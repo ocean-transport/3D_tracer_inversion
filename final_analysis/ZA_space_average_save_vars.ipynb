{
 "cells": [
  {
   "cell_type": "markdown",
   "metadata": {},
   "source": [
    "## Apply spatial filters to the data \n",
    "\n",
    "The reasons are: \n",
    "1. Make data smoother.\n",
    "2. The offline and online fluxes slightly diverge at scales smaller than 50km, so we remove them here. "
   ]
  },
  {
   "cell_type": "code",
   "execution_count": 1,
   "metadata": {},
   "outputs": [],
   "source": [
    "import numpy as np\n",
    "import xarray as xr\n",
    "#from funcs import *\n",
    "%matplotlib inline\n",
    "from matplotlib import pyplot as plt\n",
    "from matplotlib import colors, ticker, cm\n",
    "from matplotlib.colors import LogNorm\n",
    "from xgcm import Grid"
   ]
  },
  {
   "cell_type": "code",
   "execution_count": 34,
   "metadata": {},
   "outputs": [],
   "source": [
    "import sys\n",
    "sys.path.append('./modules')\n",
    "import funcs"
   ]
  },
  {
   "cell_type": "code",
   "execution_count": 3,
   "metadata": {},
   "outputs": [],
   "source": [
    "Model_Tav = xr.open_dataset('./analysis_data_files/ZA_model_Tav_online.nc')\n",
    "Trac_Tav  = xr.open_dataset('./analysis_data_files/ZA_Trac_Tav_online.nc')"
   ]
  },
  {
   "cell_type": "code",
   "execution_count": 4,
   "metadata": {},
   "outputs": [],
   "source": [
    "grid = Grid(Model_Tav, periodic='X')"
   ]
  },
  {
   "cell_type": "code",
   "execution_count": 5,
   "metadata": {},
   "outputs": [],
   "source": [
    "list_trac = ['TRAC01', 'TRAC02', 'TRAC03', 'TRAC04', 'TRAC05', \n",
    "            'TRAC06', 'TRAC07', 'TRAC08', 'TRAC09', 'TRAC10', \n",
    "            'TRAC11', 'TRAC12', 'TRAC13', 'TRAC14', 'TRAC15', \n",
    "            'TRAC16', 'TRAC17', 'TRAC18', 'TRAC19', 'TRAC20']"
   ]
  },
  {
   "cell_type": "markdown",
   "metadata": {},
   "source": [
    "### Spatial filter \n",
    "\n",
    "We need to go from time averages ($\\overline{(.)}$) to adding spatial averages ($\\left<\\overline{(.)}\\right>$). \n",
    "In particular estimate $\\left<\\overline{u}\\right>$, $\\left<\\overline{C}\\right>$, $\\left<\\overline{uC}\\right>$ etc. "
   ]
  },
  {
   "cell_type": "code",
   "execution_count": 11,
   "metadata": {},
   "outputs": [],
   "source": [
    "Model_STav = xr.Dataset()\n",
    "Lfilter = 100e3 \n",
    "\n",
    "vars = ['Ttave', 'uVeltave', 'vVeltave', 'wVeltave', 'UTtave', 'VTtave', 'WTtave']\n",
    "\n",
    "for k in vars:\n",
    "    Model_STav[k] = funcs.spatial_filter(Model_Tav[k], Lfilter, dims = Model_Tav[k].dims[1:])\n",
    "# So far all was on the original grid    "
   ]
  },
  {
   "cell_type": "code",
   "execution_count": 16,
   "metadata": {},
   "outputs": [],
   "source": [
    "# Now we need to make choice of an advection scheme, \n",
    "# as we have U and C on different points and we want to estimate a flux. \n",
    "# There are many choices here. \n",
    "\n",
    "# We make the simple (and easiest choice) to take everything to the center point.\n",
    "# As this makes life easier at later stages. \n",
    "# However, this requires lot more thinking at time of implementation.\n",
    "\n",
    "Model_STav['UpTp'] = (grid.interp(Model_STav['UTtave'], 'X') - \n",
    "                      grid.interp(Model_STav['uVeltave'], 'X')*Model_STav['Ttave'])\n",
    "Model_STav['VpTp'] = (grid.interp(Model_STav['VTtave'], 'Y', boundary='extend') - \n",
    "                      grid.interp(Model_STav['vVeltave'], 'Y', boundary='extend')*Model_STav['Ttave'])\n",
    "Model_STav['WpTp'] = (grid.interp(Model_STav['WTtave'], 'Z', boundary='extend') - \n",
    "                      grid.interp(Model_STav['wVeltave'], 'Z', boundary='extend')*Model_STav['Ttave'])"
   ]
  },
  {
   "cell_type": "code",
   "execution_count": 22,
   "metadata": {},
   "outputs": [],
   "source": [
    "list_trac = ['TRAC01', 'TRAC02', 'TRAC03', 'TRAC04', 'TRAC05', \n",
    "            'TRAC06', 'TRAC07', 'TRAC08', 'TRAC09', 'TRAC10', \n",
    "            'TRAC11', 'TRAC12', 'TRAC13', 'TRAC14', 'TRAC15', \n",
    "            'TRAC16', 'TRAC17', 'TRAC18', 'TRAC19', 'TRAC20']\n",
    "list_vels = ['U', 'V', 'W']\n",
    "\n",
    "Trac_STav = xr.Dataset()\n",
    "\n",
    "for trac in list_trac: \n",
    "    Trac_STav[trac] = funcs.spatial_filter(Trac_Tav[trac], Lfilter, dims = Trac_Tav[trac].dims[1:])\n",
    "    for vel in list_vels:\n",
    "        Trac_STav[vel+trac] = funcs.spatial_filter(Trac_Tav[vel+trac], Lfilter, dims=Trac_Tav[vel+trac].dims[1:])"
   ]
  },
  {
   "cell_type": "code",
   "execution_count": 26,
   "metadata": {},
   "outputs": [],
   "source": [
    "for trac in list_trac:\n",
    "    Trac_STav['Up'+trac+'p'] = (grid.interp(Trac_STav['U'+trac], 'X') - \n",
    "                      grid.interp(Model_STav['uVeltave'], 'X')*Trac_STav[trac])\n",
    "    Trac_STav['Vp'+trac+'p'] = (grid.interp(Trac_STav['V'+trac], 'Y', boundary='extend') - \n",
    "                      grid.interp(Model_STav['vVeltave'], 'Y', boundary='extend')*Trac_STav[trac])\n",
    "    Trac_STav['Wp'+trac+'p'] = (Trac_STav['W'+trac] - \n",
    "                      grid.interp(Model_STav['wVeltave'], 'Z', boundary='extend')*Trac_STav[trac])"
   ]
  },
  {
   "cell_type": "code",
   "execution_count": 31,
   "metadata": {},
   "outputs": [],
   "source": [
    "Model_STav.load();\n",
    "Model_STav.to_netcdf('analysis_data_files/ZA_model_STav_online_Lf_100km.nc')"
   ]
  },
  {
   "cell_type": "code",
   "execution_count": 32,
   "metadata": {},
   "outputs": [],
   "source": [
    "Trac_STav.load();\n",
    "Trac_STav.to_netcdf('analysis_data_files/ZA_trac_STav_online_Lf_100km.nc')"
   ]
  },
  {
   "cell_type": "code",
   "execution_count": null,
   "metadata": {},
   "outputs": [],
   "source": []
  }
 ],
 "metadata": {
  "kernelspec": {
   "display_name": "Python [conda env:GM-Redi-offline-env]",
   "language": "python",
   "name": "conda-env-GM-Redi-offline-env-py"
  },
  "language_info": {
   "codemirror_mode": {
    "name": "ipython",
    "version": 3
   },
   "file_extension": ".py",
   "mimetype": "text/x-python",
   "name": "python",
   "nbconvert_exporter": "python",
   "pygments_lexer": "ipython3",
   "version": "3.9.7"
  }
 },
 "nbformat": 4,
 "nbformat_minor": 2
}
