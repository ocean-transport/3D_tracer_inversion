{
 "cells": [
  {
   "cell_type": "markdown",
   "metadata": {},
   "source": [
    "### Quasi-stokes approximations \n",
    "\n",
    "Estimating the quasi-stokes (QS) streamfunction (or advective velocity) in a Z-grid model requires tracking of isopycnals. This would require the evaluation to be done online or for a very large amount (high-resolution in time) of data to be saved and analyzed offline. \n",
    "\n",
    "This has resulted in a number of approximate forms of the QS stream function, which only require knowledge about some statistics and co-relations of the flow quantities. A comprehensive summary of these are presented in Wolfe 2014. Here we evaluate these, with a focus on understanding how large the differences are between the different formulations (TEM, TRM, STEM, etc).  \n",
    "\n"
   ]
  },
  {
   "cell_type": "code",
   "execution_count": null,
   "metadata": {},
   "outputs": [],
   "source": []
  },
  {
   "cell_type": "code",
   "execution_count": null,
   "metadata": {},
   "outputs": [],
   "source": []
  },
  {
   "cell_type": "markdown",
   "metadata": {},
   "source": [
    "#### QS under different filters \n",
    "\n",
    "The Wolfe paper seems to have used Reynold's operator type filtering. We need to relax this argument. Also, it would be useful to understand if the differences between the different approximations become larger with longer term filtering, or if significant differences will appear even for short scale filters (example only spatial filter). \n",
    "\n",
    "My suspicion. Since a lot of the different forms of the QS collapse to the same in presence of no or weak mean flow, when doing only spatial average the presence of large mean flows (KE at large unfiltered scales) should presumably make the differences very signficant. "
   ]
  },
  {
   "cell_type": "code",
   "execution_count": null,
   "metadata": {},
   "outputs": [],
   "source": []
  }
 ],
 "metadata": {
  "kernelspec": {
   "display_name": "Python [conda env:GM-Redi-offline-env]",
   "language": "python",
   "name": "conda-env-GM-Redi-offline-env-py"
  },
  "language_info": {
   "codemirror_mode": {
    "name": "ipython",
    "version": 3
   },
   "file_extension": ".py",
   "mimetype": "text/x-python",
   "name": "python",
   "nbconvert_exporter": "python",
   "pygments_lexer": "ipython3",
   "version": "3.9.7"
  }
 },
 "nbformat": 4,
 "nbformat_minor": 2
}
